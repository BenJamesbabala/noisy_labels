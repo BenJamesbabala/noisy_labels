{
 "cells": [
  {
   "cell_type": "code",
   "execution_count": 1,
   "metadata": {
    "collapsed": true
   },
   "outputs": [],
   "source": [
    "FN = '170212-mnist-simple'"
   ]
  },
  {
   "cell_type": "markdown",
   "metadata": {},
   "source": [
    "In this notebook we:\n",
    "* train a on MNIST in which the training labels are scrambled by a fixed permutation 46% of the time\n",
    "* The baseline 3 layer MLP model gives an accuracy of 74% on MNIST test set which was not scrambled\n",
    "* The confusion matrix of the noisy training data is computed\n",
    "* We then add a customized Keras layer ([Channel](./channel.py)) to model the noise. This layer is initialized with the log of the confusion matrix (`channel_weights`):\n",
    "```python\n",
    "channeled_output = Channel(name='channel',weights=[channel_weights])(baseline_output)\n",
    "```\n",
    "* We continue training on the new output (`channeled_output`)\n",
    "* The baseline output (`baseline_output`) has now an accuracy of 98%.\n",
    "\n",
    "For more information see the description of the [simple noise adaptation layer in the paper](https://openreview.net/forum?id=H12GRgcxg)"
   ]
  },
  {
   "cell_type": "code",
   "execution_count": 2,
   "metadata": {
    "collapsed": true
   },
   "outputs": [],
   "source": [
    "from __future__ import print_function\n",
    "import numpy as np\n",
    "import random\n",
    "seed = 42\n",
    "np.random.seed(seed)  # for reproducibility\n",
    "random.seed(seed)\n",
    "verbose = True"
   ]
  },
  {
   "cell_type": "code",
   "execution_count": 3,
   "metadata": {
    "collapsed": false
   },
   "outputs": [],
   "source": [
    "# in case you dont have a GPU\n",
    "import os\n",
    "os.environ['THEANO_FLAGS'] = 'device=cpu,floatX=float32'  # Use CPU on Theano\n",
    "os.environ['CUDA_VISIBLE_DEVICES'] = ''  # Disable GPU usage on tensorflow"
   ]
  },
  {
   "cell_type": "markdown",
   "metadata": {},
   "source": [
    "# Data"
   ]
  },
  {
   "cell_type": "code",
   "execution_count": 4,
   "metadata": {
    "collapsed": true
   },
   "outputs": [],
   "source": [
    "nb_classes = 10 # number of categories we classify. MNIST is 10 digits\n",
    "# input image dimensions. In CNN we think we have a \"color\" image with 1 channel of color.\n",
    "# in MLP with flatten the pixels to img_rows*img_cols\n",
    "img_color, img_rows, img_cols = 1, 28, 28\n",
    "img_size = img_color*img_rows*img_cols"
   ]
  },
  {
   "cell_type": "code",
   "execution_count": 5,
   "metadata": {
    "collapsed": false
   },
   "outputs": [
    {
     "name": "stderr",
     "output_type": "stream",
     "text": [
      "Using Theano backend.\n"
     ]
    },
    {
     "name": "stdout",
     "output_type": "stream",
     "text": [
      "MNIST training data set label distribution [5923 6742 5958 6131 5842 5421 5918 6265 5851 5949]\n",
      "test distribution [ 980 1135 1032 1010  982  892  958 1028  974 1009]\n"
     ]
    }
   ],
   "source": [
    "from keras.datasets import mnist\n",
    "# keras has a built in tool that download the MNIST data set for you to `~/.keras/datasets/`\n",
    "# the data, shuffled and split between train and test sets\n",
    "(X_train, y_train), (X_test, y_test) = mnist.load_data()\n",
    "print('MNIST training data set label distribution', np.bincount(y_train))\n",
    "print('test distribution', np.bincount(y_test))"
   ]
  },
  {
   "cell_type": "code",
   "execution_count": 6,
   "metadata": {
    "collapsed": false
   },
   "outputs": [
    {
     "name": "stdout",
     "output_type": "stream",
     "text": [
      "X_train shape: (60000, 784)\n",
      "60000 train samples\n",
      "10000 test samples\n"
     ]
    }
   ],
   "source": [
    "X_train = X_train.reshape(X_train.shape[0], img_size)\n",
    "X_test = X_test.reshape(X_test.shape[0], img_size)\n",
    "    \n",
    "X_train = X_train.astype('float32')\n",
    "X_test = X_test.astype('float32')\n",
    "X_train /= 255.\n",
    "X_test /= 255.\n",
    "print('X_train shape:', X_train.shape)\n",
    "print(X_train.shape[0], 'train samples')\n",
    "print(X_test.shape[0], 'test samples')"
   ]
  },
  {
   "cell_type": "markdown",
   "metadata": {},
   "source": [
    "## noisy labels"
   ]
  },
  {
   "cell_type": "code",
   "execution_count": 7,
   "metadata": {
    "collapsed": true
   },
   "outputs": [],
   "source": [
    "NOISE_LEVEL=0.46  # what part of training labels are permuted\n",
    "perm = np.array([7, 9, 0, 4, 2, 1, 3, 5, 6, 8])  # noise permutation (from Reed)"
   ]
  },
  {
   "cell_type": "code",
   "execution_count": 8,
   "metadata": {
    "collapsed": true
   },
   "outputs": [],
   "source": [
    "noise = perm[y_train]"
   ]
  },
  {
   "cell_type": "code",
   "execution_count": 9,
   "metadata": {
    "collapsed": false
   },
   "outputs": [],
   "source": [
    "# replace some of the training labels with permuted (noise) labels.\n",
    "# make sure each categories receive an equal amount of noise\n",
    "from sklearn.model_selection import StratifiedShuffleSplit\n",
    "_, noise_idx = next(iter(StratifiedShuffleSplit(n_splits=1,\n",
    "                                                test_size=NOISE_LEVEL,\n",
    "                                                random_state=seed).split(X_train,y_train)))\n",
    "y_train_noise = y_train.copy()\n",
    "y_train_noise[noise_idx] = noise[noise_idx]"
   ]
  },
  {
   "cell_type": "markdown",
   "metadata": {},
   "source": [
    "actual noise level"
   ]
  },
  {
   "cell_type": "code",
   "execution_count": 10,
   "metadata": {
    "collapsed": false
   },
   "outputs": [
    {
     "data": {
      "text/plain": [
       "0.45999999999999996"
      ]
     },
     "execution_count": 10,
     "metadata": {},
     "output_type": "execute_result"
    }
   ],
   "source": [
    "1. - np.mean(y_train_noise == y_train)"
   ]
  },
  {
   "cell_type": "markdown",
   "metadata": {},
   "source": [
    "split training data to training and validation"
   ]
  },
  {
   "cell_type": "code",
   "execution_count": 11,
   "metadata": {
    "collapsed": false
   },
   "outputs": [],
   "source": [
    "# break the training set to 10% validation which we will use for early stopping.\n",
    "train_idx, val_idx = next(iter(\n",
    "        StratifiedShuffleSplit(n_splits=1, test_size=0.1,\n",
    "                               random_state=seed).split(X_train, y_train_noise)))\n",
    "X_train_train = X_train[train_idx]\n",
    "y_train_train = y_train_noise[train_idx]\n",
    "X_train_val = X_train[val_idx]\n",
    "y_train_val = y_train_noise[val_idx]"
   ]
  },
  {
   "cell_type": "markdown",
   "metadata": {},
   "source": [
    "# Model"
   ]
  },
  {
   "cell_type": "markdown",
   "metadata": {},
   "source": [
    "## baseline model\n",
    "We use the `Sequential` model from keras\n",
    "[mlp example](https://github.com/fchollet/keras/blob/master/examples/mnist_mlp.py)\n",
    "as a single layer which computes the last hidden layer which we then use to\n",
    "compute the baseline and as an input to the channel matrix"
   ]
  },
  {
   "cell_type": "code",
   "execution_count": 12,
   "metadata": {
    "collapsed": true
   },
   "outputs": [],
   "source": [
    "nhiddens = [500, 300]\n",
    "DROPOUT=0.5\n",
    "opt='adam'\n",
    "batch_size = 256\n",
    "patience = 4  # Early stopping patience\n",
    "nb_epoch = 40  # number of epochs to train on"
   ]
  },
  {
   "cell_type": "code",
   "execution_count": 13,
   "metadata": {
    "collapsed": false
   },
   "outputs": [],
   "source": [
    "from keras.models import Sequential\n",
    "hidden_layers = Sequential(name='hidden')"
   ]
  },
  {
   "cell_type": "code",
   "execution_count": 14,
   "metadata": {
    "collapsed": false
   },
   "outputs": [],
   "source": [
    "from keras.layers import Dense, Dropout, Activation\n",
    "for i, nhidden in enumerate(nhiddens):\n",
    "    hidden_layers.add(Dense(nhidden,\n",
    "                            input_shape=(img_size,) if i == 0 else []))\n",
    "    hidden_layers.add(Activation('relu'))\n",
    "    hidden_layers.add(Dropout(DROPOUT))"
   ]
  },
  {
   "cell_type": "code",
   "execution_count": 15,
   "metadata": {
    "collapsed": false
   },
   "outputs": [],
   "source": [
    "from keras.layers import Input\n",
    "train_inputs = Input(shape=(img_size,))"
   ]
  },
  {
   "cell_type": "code",
   "execution_count": 16,
   "metadata": {
    "collapsed": false
   },
   "outputs": [],
   "source": [
    "last_hidden = hidden_layers(train_inputs)\n",
    "baseline_output = Dense(nb_classes, activation='softmax', name='baseline')(last_hidden)"
   ]
  },
  {
   "cell_type": "code",
   "execution_count": 17,
   "metadata": {
    "collapsed": false
   },
   "outputs": [],
   "source": [
    "from keras.models import Model\n",
    "model = Model(input=train_inputs, output=baseline_output)\n",
    "model.compile(loss='sparse_categorical_crossentropy',\n",
    "              optimizer=opt,\n",
    "              metrics=['accuracy'])"
   ]
  },
  {
   "cell_type": "markdown",
   "metadata": {},
   "source": [
    "baseline model performance evaluation before training"
   ]
  },
  {
   "cell_type": "code",
   "execution_count": 18,
   "metadata": {
    "collapsed": true
   },
   "outputs": [],
   "source": [
    "def eval(model,y_test=y_test):\n",
    "    return dict(zip(model.metrics_names,model.evaluate(X_test,y_test, verbose=False)))"
   ]
  },
  {
   "cell_type": "code",
   "execution_count": 19,
   "metadata": {
    "collapsed": false
   },
   "outputs": [
    {
     "data": {
      "text/plain": [
       "{'acc': 0.1212, 'loss': 2.3552079948425293}"
      ]
     },
     "execution_count": 19,
     "metadata": {},
     "output_type": "execute_result"
    }
   ],
   "source": [
    "eval(model)"
   ]
  },
  {
   "cell_type": "markdown",
   "metadata": {},
   "source": [
    "### baseline training"
   ]
  },
  {
   "cell_type": "code",
   "execution_count": 20,
   "metadata": {
    "collapsed": false,
    "scrolled": true
   },
   "outputs": [
    {
     "name": "stdout",
     "output_type": "stream",
     "text": [
      "Train on 54000 samples, validate on 6000 samples\n",
      "Epoch 1/40\n",
      "54000/54000 [==============================] - 5s - loss: 1.2520 - acc: 0.4283 - val_loss: 0.9019 - val_acc: 0.4838\n",
      "Epoch 2/40\n",
      "54000/54000 [==============================] - 5s - loss: 0.9392 - acc: 0.4828 - val_loss: 0.8414 - val_acc: 0.5058\n",
      "Epoch 3/40\n",
      "54000/54000 [==============================] - 5s - loss: 0.8767 - acc: 0.4928 - val_loss: 0.8076 - val_acc: 0.5092\n",
      "Epoch 4/40\n",
      "54000/54000 [==============================] - 5s - loss: 0.8442 - acc: 0.5008 - val_loss: 0.7948 - val_acc: 0.5000\n",
      "Epoch 5/40\n",
      "54000/54000 [==============================] - 6s - loss: 0.8199 - acc: 0.5084 - val_loss: 0.7831 - val_acc: 0.5092\n",
      "Epoch 6/40\n",
      "54000/54000 [==============================] - 5s - loss: 0.8071 - acc: 0.5114 - val_loss: 0.7772 - val_acc: 0.5037\n",
      "Epoch 7/40\n",
      "54000/54000 [==============================] - 5s - loss: 0.7958 - acc: 0.5122 - val_loss: 0.7713 - val_acc: 0.5190\n",
      "Epoch 8/40\n",
      "54000/54000 [==============================] - 6s - loss: 0.7834 - acc: 0.5188 - val_loss: 0.7706 - val_acc: 0.5063\n",
      "Epoch 9/40\n",
      "54000/54000 [==============================] - 6s - loss: 0.7797 - acc: 0.5200 - val_loss: 0.7668 - val_acc: 0.5167\n",
      "Epoch 10/40\n",
      "54000/54000 [==============================] - 6s - loss: 0.7706 - acc: 0.5186 - val_loss: 0.7622 - val_acc: 0.5102\n",
      "Epoch 11/40\n",
      "54000/54000 [==============================] - 7s - loss: 0.7672 - acc: 0.5197 - val_loss: 0.7656 - val_acc: 0.5107\n",
      "Epoch 12/40\n",
      "54000/54000 [==============================] - 6s - loss: 0.7594 - acc: 0.5263 - val_loss: 0.7602 - val_acc: 0.5190\n",
      "Epoch 13/40\n",
      "54000/54000 [==============================] - 6s - loss: 0.7565 - acc: 0.5255 - val_loss: 0.7622 - val_acc: 0.5215\n",
      "Epoch 14/40\n",
      "54000/54000 [==============================] - 7s - loss: 0.7521 - acc: 0.5309 - val_loss: 0.7619 - val_acc: 0.5177\n",
      "Epoch 15/40\n",
      "54000/54000 [==============================] - 6s - loss: 0.7490 - acc: 0.5290 - val_loss: 0.7579 - val_acc: 0.5177\n",
      "Epoch 16/40\n",
      "54000/54000 [==============================] - 6s - loss: 0.7453 - acc: 0.5316 - val_loss: 0.7656 - val_acc: 0.4985\n",
      "Epoch 17/40\n",
      "54000/54000 [==============================] - 6s - loss: 0.7410 - acc: 0.5315 - val_loss: 0.7616 - val_acc: 0.5038\n",
      "Epoch 18/40\n",
      "54000/54000 [==============================] - 6s - loss: 0.7396 - acc: 0.5314 - val_loss: 0.7602 - val_acc: 0.5115\n",
      "Epoch 19/40\n",
      "54000/54000 [==============================] - 6s - loss: 0.7353 - acc: 0.5376 - val_loss: 0.7586 - val_acc: 0.5073\n",
      "Epoch 20/40\n",
      "54000/54000 [==============================] - 6s - loss: 0.7342 - acc: 0.5347 - val_loss: 0.7604 - val_acc: 0.5133\n",
      "Epoch 00019: early stopping\n"
     ]
    }
   ],
   "source": [
    "from keras.callbacks import EarlyStopping\n",
    "train_res = model.fit(X_train_train,\n",
    "                      y_train_train,\n",
    "                      batch_size=batch_size,\n",
    "                      nb_epoch=nb_epoch,\n",
    "                      verbose=verbose,\n",
    "                      validation_data=(X_train_val,\n",
    "                                       y_train_val),\n",
    "                      callbacks=\n",
    "                      [EarlyStopping(patience=patience,mode='min',\n",
    "                                     verbose=verbose)]\n",
    "                      )"
   ]
  },
  {
   "cell_type": "markdown",
   "metadata": {},
   "source": [
    "### baseline performance"
   ]
  },
  {
   "cell_type": "code",
   "execution_count": 21,
   "metadata": {
    "collapsed": false
   },
   "outputs": [
    {
     "data": {
      "text/plain": [
       "{'acc': 0.74229999999999996, 'loss': 0.69198721151351927}"
      ]
     },
     "execution_count": 21,
     "metadata": {},
     "output_type": "execute_result"
    }
   ],
   "source": [
    "eval(model)"
   ]
  },
  {
   "cell_type": "code",
   "execution_count": 22,
   "metadata": {
    "collapsed": true
   },
   "outputs": [],
   "source": [
    "# build confusion matrix (prediction,noisy_label)\n",
    "ybaseline_predict = model.predict(X_train,batch_size=batch_size)"
   ]
  },
  {
   "cell_type": "code",
   "execution_count": 23,
   "metadata": {
    "collapsed": false
   },
   "outputs": [
    {
     "data": {
      "text/plain": [
       "(60000,)"
      ]
     },
     "execution_count": 23,
     "metadata": {},
     "output_type": "execute_result"
    }
   ],
   "source": [
    "ybaseline_predict = np.argmax(ybaseline_predict, axis=-1)\n",
    "ybaseline_predict.shape"
   ]
  },
  {
   "cell_type": "code",
   "execution_count": 24,
   "metadata": {
    "collapsed": true
   },
   "outputs": [],
   "source": [
    "baseline_confusion = np.zeros((nb_classes, nb_classes))\n",
    "for n, p in zip(y_train_noise, ybaseline_predict):\n",
    "    baseline_confusion[p, n] += 1."
   ]
  },
  {
   "cell_type": "code",
   "execution_count": 25,
   "metadata": {
    "collapsed": false
   },
   "outputs": [
    {
     "data": {
      "image/png": "[encoded data removed]",
      "text/plain": [
       "<matplotlib.figure.Figure at 0x115913ed0>"
      ]
     },
     "metadata": {},
     "output_type": "display_data"
    }
   ],
   "source": [
    "import matplotlib.pyplot as plt\n",
    "%matplotlib inline\n",
    "# perm_bias_weights.astype(int)\n",
    "plt.pcolor(baseline_confusion)\n",
    "plt.ylabel('true labels')\n",
    "plt.xlabel('baseline labels')\n",
    "plt.title('baseline confusion matrix');"
   ]
  },
  {
   "cell_type": "markdown",
   "metadata": {},
   "source": [
    "## Simple channel model"
   ]
  },
  {
   "cell_type": "code",
   "execution_count": 26,
   "metadata": {
    "collapsed": true
   },
   "outputs": [],
   "source": [
    "# ignore baseline loss in training\n",
    "BETA = 0."
   ]
  },
  {
   "cell_type": "code",
   "execution_count": 27,
   "metadata": {
    "collapsed": true
   },
   "outputs": [],
   "source": [
    "channel_weights = baseline_confusion.copy()\n",
    "channel_weights /= channel_weights.sum(axis=1, keepdims=True)\n",
    "# perm_bias_weights[prediction,noisy_label] = log(P(noisy_label|prediction))\n",
    "channel_weights = np.log(channel_weights + 1e-8)"
   ]
  },
  {
   "cell_type": "code",
   "execution_count": 28,
   "metadata": {
    "collapsed": true
   },
   "outputs": [],
   "source": [
    "# If you dont have a pre-trained baseline model then use this\n",
    "# channel_weights = (\n",
    "#     np.array([[np.log(1. - NOISE_LEVEL)\n",
    "#                         if i == j else\n",
    "#                         np.log(NOISE / (nb_classes - 1.))\n",
    "#                         for j in range(nb_classes)] for i in\n",
    "#               range(nb_classes)])\n",
    "#     + 0.01 * np.random.random((nb_classes, nb_classes)))"
   ]
  },
  {
   "cell_type": "code",
   "execution_count": 29,
   "metadata": {
    "collapsed": false
   },
   "outputs": [],
   "source": [
    "from channel import Channel\n",
    "channeled_output = Channel(name='channel',weights=[channel_weights])(baseline_output)"
   ]
  },
  {
   "cell_type": "code",
   "execution_count": 30,
   "metadata": {
    "collapsed": false
   },
   "outputs": [],
   "source": [
    "simple_model = Model(input=train_inputs, output=[channeled_output, baseline_output])\n",
    "simple_model.compile(loss='sparse_categorical_crossentropy',loss_weights=[1.-BETA, BETA],\n",
    "              optimizer=opt,\n",
    "              metrics=['accuracy'])"
   ]
  },
  {
   "cell_type": "code",
   "execution_count": 31,
   "metadata": {
    "collapsed": false
   },
   "outputs": [
    {
     "name": "stdout",
     "output_type": "stream",
     "text": [
      "Train on 54000 samples, validate on 6000 samples\n",
      "Epoch 1/40\n",
      "54000/54000 [==============================] - 6s - loss: 0.8480 - channel_loss: 0.8480 - baseline_loss: 1.8988 - channel_acc: 0.5352 - baseline_acc: 0.5352 - val_loss: 0.8391 - val_channel_loss: 0.8391 - val_baseline_loss: 2.3363 - val_channel_acc: 0.5327 - val_baseline_acc: 0.5318\n",
      "Epoch 2/40\n",
      "54000/54000 [==============================] - 6s - loss: 0.8118 - channel_loss: 0.8118 - baseline_loss: 2.8313 - channel_acc: 0.5359 - baseline_acc: 0.5340 - val_loss: 0.8157 - val_channel_loss: 0.8157 - val_baseline_loss: 3.1281 - val_channel_acc: 0.5315 - val_baseline_acc: 0.5323\n",
      "Epoch 3/40\n",
      "54000/54000 [==============================] - 6s - loss: 0.7946 - channel_loss: 0.7946 - baseline_loss: 3.4682 - channel_acc: 0.5354 - baseline_acc: 0.5343 - val_loss: 0.7984 - val_channel_loss: 0.7984 - val_baseline_loss: 3.7177 - val_channel_acc: 0.5325 - val_baseline_acc: 0.5327\n",
      "Epoch 4/40\n",
      "54000/54000 [==============================] - 6s - loss: 0.7785 - channel_loss: 0.7785 - baseline_loss: 3.9570 - channel_acc: 0.5359 - baseline_acc: 0.5338 - val_loss: 0.7900 - val_channel_loss: 0.7900 - val_baseline_loss: 3.9785 - val_channel_acc: 0.5322 - val_baseline_acc: 0.5325\n",
      "Epoch 5/40\n",
      "54000/54000 [==============================] - 6s - loss: 0.7687 - channel_loss: 0.7687 - baseline_loss: 4.2234 - channel_acc: 0.5358 - baseline_acc: 0.5345 - val_loss: 0.7825 - val_channel_loss: 0.7825 - val_baseline_loss: 4.4259 - val_channel_acc: 0.5343 - val_baseline_acc: 0.5338\n",
      "Epoch 6/40\n",
      "54000/54000 [==============================] - 6s - loss: 0.7609 - channel_loss: 0.7609 - baseline_loss: 4.5260 - channel_acc: 0.5351 - baseline_acc: 0.5339 - val_loss: 0.7739 - val_channel_loss: 0.7739 - val_baseline_loss: 4.7755 - val_channel_acc: 0.5348 - val_baseline_acc: 0.5342\n",
      "Epoch 7/40\n",
      "54000/54000 [==============================] - 6s - loss: 0.7571 - channel_loss: 0.7571 - baseline_loss: 4.6989 - channel_acc: 0.5358 - baseline_acc: 0.5334 - val_loss: 0.7725 - val_channel_loss: 0.7725 - val_baseline_loss: 4.9083 - val_channel_acc: 0.5333 - val_baseline_acc: 0.5333\n",
      "Epoch 8/40\n",
      "54000/54000 [==============================] - 6s - loss: 0.7552 - channel_loss: 0.7552 - baseline_loss: 4.8482 - channel_acc: 0.5353 - baseline_acc: 0.5336 - val_loss: 0.7725 - val_channel_loss: 0.7725 - val_baseline_loss: 5.0564 - val_channel_acc: 0.5328 - val_baseline_acc: 0.5330\n",
      "Epoch 9/40\n",
      "54000/54000 [==============================] - 7s - loss: 0.7474 - channel_loss: 0.7474 - baseline_loss: 5.0629 - channel_acc: 0.5355 - baseline_acc: 0.5336 - val_loss: 0.7670 - val_channel_loss: 0.7670 - val_baseline_loss: 5.2356 - val_channel_acc: 0.5320 - val_baseline_acc: 0.5320\n",
      "Epoch 10/40\n",
      "54000/54000 [==============================] - 6s - loss: 0.7413 - channel_loss: 0.7413 - baseline_loss: 5.2641 - channel_acc: 0.5355 - baseline_acc: 0.5343 - val_loss: 0.7683 - val_channel_loss: 0.7683 - val_baseline_loss: 5.4445 - val_channel_acc: 0.5340 - val_baseline_acc: 0.5330\n",
      "Epoch 11/40\n",
      "54000/54000 [==============================] - 5s - loss: 0.7394 - channel_loss: 0.7394 - baseline_loss: 5.3814 - channel_acc: 0.5370 - baseline_acc: 0.5351 - val_loss: 0.7670 - val_channel_loss: 0.7670 - val_baseline_loss: 5.4784 - val_channel_acc: 0.5322 - val_baseline_acc: 0.5323\n",
      "Epoch 12/40\n",
      "54000/54000 [==============================] - 5s - loss: 0.7379 - channel_loss: 0.7379 - baseline_loss: 5.3875 - channel_acc: 0.5359 - baseline_acc: 0.5345 - val_loss: 0.7616 - val_channel_loss: 0.7616 - val_baseline_loss: 5.6784 - val_channel_acc: 0.5340 - val_baseline_acc: 0.5335\n",
      "Epoch 13/40\n",
      "54000/54000 [==============================] - 6s - loss: 0.7358 - channel_loss: 0.7358 - baseline_loss: 5.5285 - channel_acc: 0.5362 - baseline_acc: 0.5350 - val_loss: 0.7613 - val_channel_loss: 0.7613 - val_baseline_loss: 5.6921 - val_channel_acc: 0.5347 - val_baseline_acc: 0.5333\n",
      "Epoch 14/40\n",
      "54000/54000 [==============================] - 5s - loss: 0.7323 - channel_loss: 0.7323 - baseline_loss: 5.6420 - channel_acc: 0.5366 - baseline_acc: 0.5350 - val_loss: 0.7622 - val_channel_loss: 0.7622 - val_baseline_loss: 5.7667 - val_channel_acc: 0.5313 - val_baseline_acc: 0.5328\n",
      "Epoch 15/40\n",
      "54000/54000 [==============================] - 6s - loss: 0.7322 - channel_loss: 0.7322 - baseline_loss: 5.7105 - channel_acc: 0.5361 - baseline_acc: 0.5347 - val_loss: 0.7633 - val_channel_loss: 0.7633 - val_baseline_loss: 5.8021 - val_channel_acc: 0.5330 - val_baseline_acc: 0.5330\n",
      "Epoch 16/40\n",
      "54000/54000 [==============================] - 6s - loss: 0.7307 - channel_loss: 0.7307 - baseline_loss: 5.7165 - channel_acc: 0.5363 - baseline_acc: 0.5350 - val_loss: 0.7549 - val_channel_loss: 0.7549 - val_baseline_loss: 5.9885 - val_channel_acc: 0.5338 - val_baseline_acc: 0.5330\n",
      "Epoch 17/40\n",
      "54000/54000 [==============================] - 7s - loss: 0.7280 - channel_loss: 0.7280 - baseline_loss: 5.8443 - channel_acc: 0.5368 - baseline_acc: 0.5355 - val_loss: 0.7602 - val_channel_loss: 0.7602 - val_baseline_loss: 6.0044 - val_channel_acc: 0.5323 - val_baseline_acc: 0.5322\n",
      "Epoch 18/40\n",
      "54000/54000 [==============================] - 6s - loss: 0.7274 - channel_loss: 0.7274 - baseline_loss: 5.9010 - channel_acc: 0.5362 - baseline_acc: 0.5348 - val_loss: 0.7606 - val_channel_loss: 0.7606 - val_baseline_loss: 6.0422 - val_channel_acc: 0.5332 - val_baseline_acc: 0.5327\n",
      "Epoch 19/40\n",
      "54000/54000 [==============================] - 6s - loss: 0.7249 - channel_loss: 0.7249 - baseline_loss: 5.9380 - channel_acc: 0.5368 - baseline_acc: 0.5351 - val_loss: 0.7547 - val_channel_loss: 0.7547 - val_baseline_loss: 6.1172 - val_channel_acc: 0.5342 - val_baseline_acc: 0.5342\n",
      "Epoch 20/40\n",
      "54000/54000 [==============================] - 5s - loss: 0.7249 - channel_loss: 0.7249 - baseline_loss: 5.9099 - channel_acc: 0.5370 - baseline_acc: 0.5357 - val_loss: 0.7576 - val_channel_loss: 0.7576 - val_baseline_loss: 6.1141 - val_channel_acc: 0.5340 - val_baseline_acc: 0.5337\n",
      "Epoch 21/40\n",
      "54000/54000 [==============================] - 6s - loss: 0.7216 - channel_loss: 0.7216 - baseline_loss: 6.0217 - channel_acc: 0.5370 - baseline_acc: 0.5357 - val_loss: 0.7520 - val_channel_loss: 0.7520 - val_baseline_loss: 6.2091 - val_channel_acc: 0.5338 - val_baseline_acc: 0.5338\n",
      "Epoch 22/40\n",
      "54000/54000 [==============================] - 5s - loss: 0.7192 - channel_loss: 0.7192 - baseline_loss: 6.0658 - channel_acc: 0.5375 - baseline_acc: 0.5361 - val_loss: 0.7593 - val_channel_loss: 0.7593 - val_baseline_loss: 6.3140 - val_channel_acc: 0.5333 - val_baseline_acc: 0.5332\n",
      "Epoch 23/40\n",
      "54000/54000 [==============================] - 6s - loss: 0.7225 - channel_loss: 0.7225 - baseline_loss: 6.0599 - channel_acc: 0.5372 - baseline_acc: 0.5360 - val_loss: 0.7570 - val_channel_loss: 0.7570 - val_baseline_loss: 6.3303 - val_channel_acc: 0.5338 - val_baseline_acc: 0.5335\n",
      "Epoch 24/40\n",
      "54000/54000 [==============================] - 7s - loss: 0.7227 - channel_loss: 0.7227 - baseline_loss: 6.1274 - channel_acc: 0.5375 - baseline_acc: 0.5356 - val_loss: 0.7656 - val_channel_loss: 0.7656 - val_baseline_loss: 6.2981 - val_channel_acc: 0.5325 - val_baseline_acc: 0.5323\n",
      "Epoch 25/40\n",
      "54000/54000 [==============================] - 6s - loss: 0.7215 - channel_loss: 0.7215 - baseline_loss: 6.1283 - channel_acc: 0.5365 - baseline_acc: 0.5352 - val_loss: 0.7576 - val_channel_loss: 0.7576 - val_baseline_loss: 6.3847 - val_channel_acc: 0.5340 - val_baseline_acc: 0.5335\n",
      "Epoch 26/40\n",
      "54000/54000 [==============================] - 6s - loss: 0.7201 - channel_loss: 0.7201 - baseline_loss: 6.1774 - channel_acc: 0.5367 - baseline_acc: 0.5357 - val_loss: 0.7521 - val_channel_loss: 0.7521 - val_baseline_loss: 6.3776 - val_channel_acc: 0.5327 - val_baseline_acc: 0.5332\n",
      "Epoch 00025: early stopping\n"
     ]
    }
   ],
   "source": [
    "train_res = simple_model.fit(X_train_train,\n",
    "                      [y_train_train,y_train_train],\n",
    "                      batch_size=batch_size,\n",
    "                      nb_epoch=nb_epoch,\n",
    "                      verbose=verbose,\n",
    "                      validation_data=(X_train_val,\n",
    "                                       [y_train_val,y_train_val]),\n",
    "                      callbacks=\n",
    "                      [EarlyStopping(patience=patience,mode='min',verbose=verbose)]\n",
    "                      )"
   ]
  },
  {
   "cell_type": "code",
   "execution_count": 32,
   "metadata": {
    "collapsed": false
   },
   "outputs": [
    {
     "data": {
      "text/plain": [
       "{'baseline_acc': 0.98250000000000004,\n",
       " 'baseline_loss': 0.085097076385761014,\n",
       " 'channel_acc': 0.98129999999999995,\n",
       " 'channel_loss': 0.68612833032608034,\n",
       " 'loss': 0.68612833032608034}"
      ]
     },
     "execution_count": 32,
     "metadata": {},
     "output_type": "execute_result"
    }
   ],
   "source": [
    "eval(simple_model,y_test=[y_test,y_test])"
   ]
  }
 ],
 "metadata": {
  "anaconda-cloud": {},
  "kernelspec": {
   "display_name": "Python [default]",
   "language": "python",
   "name": "python2"
  },
  "language_info": {
   "codemirror_mode": {
    "name": "ipython",
    "version": 2
   },
   "file_extension": ".py",
   "mimetype": "text/x-python",
   "name": "python",
   "nbconvert_exporter": "python",
   "pygments_lexer": "ipython2",
   "version": "2.7.12"
  }
 },
 "nbformat": 4,
 "nbformat_minor": 2
}
