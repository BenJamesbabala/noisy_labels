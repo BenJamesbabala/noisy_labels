{
 "cells": [
  {
   "cell_type": "code",
   "execution_count": 1,
   "metadata": {
    "collapsed": true
   },
   "outputs": [],
   "source": [
    "FN = 'mnist-simple'"
   ]
  },
  {
   "cell_type": "markdown",
   "metadata": {},
   "source": [
    "This notebook works with Keras version 2"
   ]
  },
  {
   "cell_type": "markdown",
   "metadata": {},
   "source": [
    "In this notebook we:\n",
    "* train a on MNIST in which the training labels are scrambled by a fixed permutation 46% of the time\n",
    "* The baseline 3 layer MLP model gives an accuracy of 74% on MNIST test set which was not scrambled\n",
    "* The confusion matrix of the noisy training data is computed\n",
    "* We then add a customized Keras layer ([Channel](./channel.py)) to model the noise. This layer is initialized with the log of the confusion matrix (`channel_weights`):\n",
    "```python\n",
    "channeled_output = Channel(name='channel',weights=[channel_weights])(baseline_output)\n",
    "```\n",
    "* We continue training on the new output (`channeled_output`)\n",
    "* The baseline output (`baseline_output`) has now an accuracy of 98%.\n",
    "\n",
    "For more information see the description of the [simple noise adaptation layer in the paper](https://openreview.net/forum?id=H12GRgcxg)"
   ]
  },
  {
   "cell_type": "code",
   "execution_count": 2,
   "metadata": {
    "collapsed": true
   },
   "outputs": [],
   "source": [
    "from __future__ import print_function\n",
    "import numpy as np\n",
    "import random\n",
    "seed = 42\n",
    "np.random.seed(seed)  # for reproducibility\n",
    "random.seed(seed)\n",
    "verbose = True"
   ]
  },
  {
   "cell_type": "code",
   "execution_count": 3,
   "metadata": {
    "collapsed": false
   },
   "outputs": [],
   "source": [
    "# in case you dont have a GPU\n",
    "import os\n",
    "os.environ['THEANO_FLAGS'] = 'device=cpu,floatX=float32'  # Use CPU on Theano\n",
    "os.environ['CUDA_VISIBLE_DEVICES'] = ''  # Disable GPU usage on tensorflow"
   ]
  },
  {
   "cell_type": "markdown",
   "metadata": {},
   "source": [
    "# Data"
   ]
  },
  {
   "cell_type": "code",
   "execution_count": 4,
   "metadata": {
    "collapsed": true
   },
   "outputs": [],
   "source": [
    "nb_classes = 10 # number of categories we classify. MNIST is 10 digits\n",
    "# input image dimensions. In CNN we think we have a \"color\" image with 1 channel of color.\n",
    "# in MLP with flatten the pixels to img_rows*img_cols\n",
    "img_color, img_rows, img_cols = 1, 28, 28\n",
    "img_size = img_color*img_rows*img_cols"
   ]
  },
  {
   "cell_type": "code",
   "execution_count": 5,
   "metadata": {
    "collapsed": false
   },
   "outputs": [
    {
     "name": "stderr",
     "output_type": "stream",
     "text": [
      "Using Theano backend.\n"
     ]
    },
    {
     "name": "stdout",
     "output_type": "stream",
     "text": [
      "MNIST training data set label distribution [5923 6742 5958 6131 5842 5421 5918 6265 5851 5949]\n",
      "test distribution [ 980 1135 1032 1010  982  892  958 1028  974 1009]\n"
     ]
    }
   ],
   "source": [
    "from keras.datasets import mnist\n",
    "# keras has a built in tool that download the MNIST data set for you to `~/.keras/datasets/`\n",
    "# the data, shuffled and split between train and test sets\n",
    "(X_train, y_train), (X_test, y_test) = mnist.load_data()\n",
    "print('MNIST training data set label distribution', np.bincount(y_train))\n",
    "print('test distribution', np.bincount(y_test))"
   ]
  },
  {
   "cell_type": "code",
   "execution_count": 6,
   "metadata": {
    "collapsed": false
   },
   "outputs": [
    {
     "name": "stdout",
     "output_type": "stream",
     "text": [
      "X_train shape: (60000, 784)\n",
      "60000 train samples\n",
      "10000 test samples\n"
     ]
    }
   ],
   "source": [
    "X_train = X_train.reshape(X_train.shape[0], img_size)\n",
    "X_test = X_test.reshape(X_test.shape[0], img_size)\n",
    "    \n",
    "X_train = X_train.astype('float32')\n",
    "X_test = X_test.astype('float32')\n",
    "X_train /= 255.\n",
    "X_test /= 255.\n",
    "print('X_train shape:', X_train.shape)\n",
    "print(X_train.shape[0], 'train samples')\n",
    "print(X_test.shape[0], 'test samples')"
   ]
  },
  {
   "cell_type": "markdown",
   "metadata": {},
   "source": [
    "## noisy labels"
   ]
  },
  {
   "cell_type": "code",
   "execution_count": 7,
   "metadata": {
    "collapsed": true
   },
   "outputs": [],
   "source": [
    "NOISE_LEVEL=0.46  # what part of training labels are permuted\n",
    "perm = np.array([7, 9, 0, 4, 2, 1, 3, 5, 6, 8])  # noise permutation (from Reed)"
   ]
  },
  {
   "cell_type": "code",
   "execution_count": 8,
   "metadata": {
    "collapsed": true
   },
   "outputs": [],
   "source": [
    "noise = perm[y_train]"
   ]
  },
  {
   "cell_type": "code",
   "execution_count": 9,
   "metadata": {
    "collapsed": false
   },
   "outputs": [],
   "source": [
    "# replace some of the training labels with permuted (noise) labels.\n",
    "# make sure each categories receive an equal amount of noise\n",
    "from sklearn.model_selection import StratifiedShuffleSplit\n",
    "_, noise_idx = next(iter(StratifiedShuffleSplit(n_splits=1,\n",
    "                                                test_size=NOISE_LEVEL,\n",
    "                                                random_state=seed).split(X_train,y_train)))\n",
    "y_train_noise = y_train.copy()\n",
    "y_train_noise[noise_idx] = noise[noise_idx]"
   ]
  },
  {
   "cell_type": "markdown",
   "metadata": {},
   "source": [
    "actual noise level"
   ]
  },
  {
   "cell_type": "code",
   "execution_count": 10,
   "metadata": {
    "collapsed": false
   },
   "outputs": [
    {
     "data": {
      "text/plain": [
       "0.45999999999999996"
      ]
     },
     "execution_count": 10,
     "metadata": {},
     "output_type": "execute_result"
    }
   ],
   "source": [
    "1. - np.mean(y_train_noise == y_train)"
   ]
  },
  {
   "cell_type": "markdown",
   "metadata": {},
   "source": [
    "split training data to training and validation"
   ]
  },
  {
   "cell_type": "code",
   "execution_count": 11,
   "metadata": {
    "collapsed": false
   },
   "outputs": [],
   "source": [
    "# break the training set to 10% validation which we will use for early stopping.\n",
    "train_idx, val_idx = next(iter(\n",
    "        StratifiedShuffleSplit(n_splits=1, test_size=0.1,\n",
    "                               random_state=seed).split(X_train, y_train_noise)))\n",
    "X_train_train = X_train[train_idx]\n",
    "y_train_train = y_train_noise[train_idx]\n",
    "X_train_val = X_train[val_idx]\n",
    "y_train_val = y_train_noise[val_idx]"
   ]
  },
  {
   "cell_type": "markdown",
   "metadata": {},
   "source": [
    "# Model"
   ]
  },
  {
   "cell_type": "markdown",
   "metadata": {},
   "source": [
    "## baseline model\n",
    "We use the `Sequential` model from keras\n",
    "[mlp example](https://github.com/fchollet/keras/blob/master/examples/mnist_mlp.py)\n",
    "as a single layer which computes the last hidden layer which we then use to\n",
    "compute the baseline and as an input to the channel matrix"
   ]
  },
  {
   "cell_type": "code",
   "execution_count": 12,
   "metadata": {
    "collapsed": true
   },
   "outputs": [],
   "source": [
    "nhiddens = [500, 300]\n",
    "DROPOUT=0.5\n",
    "opt='adam'\n",
    "batch_size = 256\n",
    "patience = 4  # Early stopping patience\n",
    "epochs = 40  # number of epochs to train on"
   ]
  },
  {
   "cell_type": "code",
   "execution_count": 13,
   "metadata": {
    "collapsed": false
   },
   "outputs": [],
   "source": [
    "from keras.models import Sequential\n",
    "hidden_layers = Sequential(name='hidden')"
   ]
  },
  {
   "cell_type": "code",
   "execution_count": 14,
   "metadata": {
    "collapsed": false
   },
   "outputs": [],
   "source": [
    "from keras.layers import Dense, Dropout, Activation\n",
    "for i, nhidden in enumerate(nhiddens):\n",
    "    hidden_layers.add(Dense(nhidden,\n",
    "                            input_shape=(img_size,) if i == 0 else []))\n",
    "    hidden_layers.add(Activation('relu'))\n",
    "    hidden_layers.add(Dropout(DROPOUT))"
   ]
  },
  {
   "cell_type": "code",
   "execution_count": 15,
   "metadata": {
    "collapsed": false
   },
   "outputs": [],
   "source": [
    "from keras.layers import Input\n",
    "train_inputs = Input(shape=(img_size,))"
   ]
  },
  {
   "cell_type": "code",
   "execution_count": 16,
   "metadata": {
    "collapsed": false
   },
   "outputs": [],
   "source": [
    "last_hidden = hidden_layers(train_inputs)\n",
    "baseline_output = Dense(nb_classes, activation='softmax', name='baseline')(last_hidden)"
   ]
  },
  {
   "cell_type": "code",
   "execution_count": 17,
   "metadata": {
    "collapsed": false
   },
   "outputs": [],
   "source": [
    "from keras.models import Model\n",
    "model = Model(inputs=train_inputs, outputs=baseline_output)\n",
    "model.compile(loss='sparse_categorical_crossentropy',\n",
    "              optimizer=opt,\n",
    "              metrics=['accuracy'])"
   ]
  },
  {
   "cell_type": "markdown",
   "metadata": {},
   "source": [
    "baseline model performance evaluation before training"
   ]
  },
  {
   "cell_type": "code",
   "execution_count": 18,
   "metadata": {
    "collapsed": true
   },
   "outputs": [],
   "source": [
    "def eval(model,y_test=y_test):\n",
    "    return dict(zip(model.metrics_names,model.evaluate(X_test,y_test, verbose=False)))"
   ]
  },
  {
   "cell_type": "code",
   "execution_count": 19,
   "metadata": {
    "collapsed": false
   },
   "outputs": [
    {
     "data": {
      "text/plain": [
       "{'acc': 0.090800000000000006, 'loss': 2.3604063068389891}"
      ]
     },
     "execution_count": 19,
     "metadata": {},
     "output_type": "execute_result"
    }
   ],
   "source": [
    "eval(model)"
   ]
  },
  {
   "cell_type": "markdown",
   "metadata": {},
   "source": [
    "### baseline training"
   ]
  },
  {
   "cell_type": "code",
   "execution_count": 20,
   "metadata": {
    "collapsed": false,
    "scrolled": true
   },
   "outputs": [
    {
     "name": "stdout",
     "output_type": "stream",
     "text": [
      "Train on 54000 samples, validate on 6000 samples\n",
      "Epoch 1/40\n",
      "54000/54000 [==============================] - 5s - loss: 1.2561 - acc: 0.4230 - val_loss: 0.9025 - val_acc: 0.4867\n",
      "Epoch 2/40\n",
      "54000/54000 [==============================] - 5s - loss: 0.9392 - acc: 0.4828 - val_loss: 0.8409 - val_acc: 0.4802\n",
      "Epoch 3/40\n",
      "54000/54000 [==============================] - 5s - loss: 0.8770 - acc: 0.4946 - val_loss: 0.8118 - val_acc: 0.4882\n",
      "Epoch 4/40\n",
      "54000/54000 [==============================] - 5s - loss: 0.8451 - acc: 0.5004 - val_loss: 0.7988 - val_acc: 0.4955\n",
      "Epoch 5/40\n",
      "54000/54000 [==============================] - 5s - loss: 0.8223 - acc: 0.5076 - val_loss: 0.7839 - val_acc: 0.5108\n",
      "Epoch 6/40\n",
      "54000/54000 [==============================] - 7s - loss: 0.8083 - acc: 0.5104 - val_loss: 0.7804 - val_acc: 0.5142\n",
      "Epoch 7/40\n",
      "54000/54000 [==============================] - 6s - loss: 0.7934 - acc: 0.5117 - val_loss: 0.7715 - val_acc: 0.5088\n",
      "Epoch 8/40\n",
      "54000/54000 [==============================] - 6s - loss: 0.7865 - acc: 0.5156 - val_loss: 0.7674 - val_acc: 0.5110\n",
      "Epoch 9/40\n",
      "54000/54000 [==============================] - 6s - loss: 0.7747 - acc: 0.5219 - val_loss: 0.7618 - val_acc: 0.5247\n",
      "Epoch 10/40\n",
      "54000/54000 [==============================] - 7s - loss: 0.7710 - acc: 0.5217 - val_loss: 0.7645 - val_acc: 0.5055\n",
      "Epoch 11/40\n",
      "54000/54000 [==============================] - 6s - loss: 0.7651 - acc: 0.5260 - val_loss: 0.7591 - val_acc: 0.5098\n",
      "Epoch 12/40\n",
      "54000/54000 [==============================] - 5s - loss: 0.7622 - acc: 0.5225 - val_loss: 0.7640 - val_acc: 0.5073\n",
      "Epoch 13/40\n",
      "54000/54000 [==============================] - 5s - loss: 0.7567 - acc: 0.5248 - val_loss: 0.7605 - val_acc: 0.5068\n",
      "Epoch 14/40\n",
      "54000/54000 [==============================] - 5s - loss: 0.7528 - acc: 0.5286 - val_loss: 0.7569 - val_acc: 0.5098\n",
      "Epoch 15/40\n",
      "54000/54000 [==============================] - 5s - loss: 0.7468 - acc: 0.5320 - val_loss: 0.7617 - val_acc: 0.5068\n",
      "Epoch 16/40\n",
      "54000/54000 [==============================] - 6s - loss: 0.7450 - acc: 0.5315 - val_loss: 0.7552 - val_acc: 0.5198\n",
      "Epoch 17/40\n",
      "54000/54000 [==============================] - 5s - loss: 0.7418 - acc: 0.5354 - val_loss: 0.7615 - val_acc: 0.5052\n",
      "Epoch 18/40\n",
      "54000/54000 [==============================] - 5s - loss: 0.7385 - acc: 0.5365 - val_loss: 0.7601 - val_acc: 0.5172\n",
      "Epoch 19/40\n",
      "54000/54000 [==============================] - 5s - loss: 0.7382 - acc: 0.5353 - val_loss: 0.7578 - val_acc: 0.5050\n",
      "Epoch 20/40\n",
      "54000/54000 [==============================] - 6s - loss: 0.7361 - acc: 0.5364 - val_loss: 0.7606 - val_acc: 0.5040\n",
      "Epoch 21/40\n",
      "54000/54000 [==============================] - 6s - loss: 0.7313 - acc: 0.5417 - val_loss: 0.7623 - val_acc: 0.5045\n",
      "Epoch 00020: early stopping\n"
     ]
    }
   ],
   "source": [
    "from keras.callbacks import EarlyStopping\n",
    "train_res = model.fit(X_train_train,\n",
    "                      y_train_train,\n",
    "                      batch_size=batch_size,\n",
    "                      epochs=epochs,\n",
    "                      verbose=verbose,\n",
    "                      validation_data=(X_train_val,\n",
    "                                       y_train_val),\n",
    "                      callbacks=\n",
    "                      [EarlyStopping(patience=patience,mode='min',\n",
    "                                     verbose=verbose)]\n",
    "                      )"
   ]
  },
  {
   "cell_type": "markdown",
   "metadata": {},
   "source": [
    "### baseline performance"
   ]
  },
  {
   "cell_type": "code",
   "execution_count": 21,
   "metadata": {
    "collapsed": false
   },
   "outputs": [
    {
     "data": {
      "text/plain": [
       "{'acc': 0.74380000000000002, 'loss': 0.68568477287292484}"
      ]
     },
     "execution_count": 21,
     "metadata": {},
     "output_type": "execute_result"
    }
   ],
   "source": [
    "eval(model)"
   ]
  },
  {
   "cell_type": "code",
   "execution_count": 22,
   "metadata": {
    "collapsed": true
   },
   "outputs": [],
   "source": [
    "# build confusion matrix (prediction,noisy_label)\n",
    "ybaseline_predict = model.predict(X_train,batch_size=batch_size)"
   ]
  },
  {
   "cell_type": "code",
   "execution_count": 23,
   "metadata": {
    "collapsed": false
   },
   "outputs": [
    {
     "data": {
      "text/plain": [
       "(60000,)"
      ]
     },
     "execution_count": 23,
     "metadata": {},
     "output_type": "execute_result"
    }
   ],
   "source": [
    "ybaseline_predict = np.argmax(ybaseline_predict, axis=-1)\n",
    "ybaseline_predict.shape"
   ]
  },
  {
   "cell_type": "code",
   "execution_count": 24,
   "metadata": {
    "collapsed": true
   },
   "outputs": [],
   "source": [
    "baseline_confusion = np.zeros((nb_classes, nb_classes))\n",
    "for n, p in zip(y_train_noise, ybaseline_predict):\n",
    "    baseline_confusion[p, n] += 1."
   ]
  },
  {
   "cell_type": "code",
   "execution_count": 25,
   "metadata": {
    "collapsed": false
   },
   "outputs": [
    {
     "data": {
      "image/png": "[encoded data removed]",
      "text/plain": [
       "<matplotlib.figure.Figure at 0x12d647cd0>"
      ]
     },
     "metadata": {},
     "output_type": "display_data"
    }
   ],
   "source": [
    "import matplotlib.pyplot as plt\n",
    "%matplotlib inline\n",
    "# perm_bias_weights.astype(int)\n",
    "plt.pcolor(baseline_confusion)\n",
    "plt.ylabel('true labels')\n",
    "plt.xlabel('baseline labels')\n",
    "plt.title('baseline confusion matrix');"
   ]
  },
  {
   "cell_type": "markdown",
   "metadata": {},
   "source": [
    "## Simple channel model"
   ]
  },
  {
   "cell_type": "code",
   "execution_count": 26,
   "metadata": {
    "collapsed": true
   },
   "outputs": [],
   "source": [
    "# ignore baseline loss in training\n",
    "BETA = 0."
   ]
  },
  {
   "cell_type": "code",
   "execution_count": 27,
   "metadata": {
    "collapsed": true
   },
   "outputs": [],
   "source": [
    "channel_weights = baseline_confusion.copy()\n",
    "channel_weights /= channel_weights.sum(axis=1, keepdims=True)\n",
    "# perm_bias_weights[prediction,noisy_label] = log(P(noisy_label|prediction))\n",
    "channel_weights = np.log(channel_weights + 1e-8)"
   ]
  },
  {
   "cell_type": "code",
   "execution_count": 28,
   "metadata": {
    "collapsed": true
   },
   "outputs": [],
   "source": [
    "# If you dont have a pre-trained baseline model then use this\n",
    "# channel_weights = (\n",
    "#     np.array([[np.log(1. - NOISE_LEVEL)\n",
    "#                         if i == j else\n",
    "#                         np.log(NOISE / (nb_classes - 1.))\n",
    "#                         for j in range(nb_classes)] for i in\n",
    "#               range(nb_classes)])\n",
    "#     + 0.01 * np.random.random((nb_classes, nb_classes)))"
   ]
  },
  {
   "cell_type": "code",
   "execution_count": 29,
   "metadata": {
    "collapsed": false
   },
   "outputs": [],
   "source": [
    "from channel import Channel\n",
    "channeled_output = Channel(name='channel',weights=[channel_weights])(baseline_output)"
   ]
  },
  {
   "cell_type": "code",
   "execution_count": 30,
   "metadata": {
    "collapsed": false
   },
   "outputs": [],
   "source": [
    "simple_model = Model(inputs=train_inputs, outputs=[channeled_output, baseline_output])\n",
    "simple_model.compile(loss='sparse_categorical_crossentropy',loss_weights=[1.-BETA, BETA],\n",
    "              optimizer=opt,\n",
    "              metrics=['accuracy'])"
   ]
  },
  {
   "cell_type": "code",
   "execution_count": 31,
   "metadata": {
    "collapsed": false
   },
   "outputs": [
    {
     "name": "stdout",
     "output_type": "stream",
     "text": [
      "Train on 54000 samples, validate on 6000 samples\n",
      "Epoch 1/40\n",
      "54000/54000 [==============================] - 5s - loss: 0.8482 - channel_loss: 0.8482 - baseline_loss: 1.8758 - channel_acc: 0.5312 - baseline_acc: 0.5292 - val_loss: 0.8508 - val_channel_loss: 0.8508 - val_baseline_loss: 2.1850 - val_channel_acc: 0.5222 - val_baseline_acc: 0.5188\n",
      "Epoch 2/40\n",
      "54000/54000 [==============================] - 5s - loss: 0.8203 - channel_loss: 0.8203 - baseline_loss: 2.4552 - channel_acc: 0.5360 - baseline_acc: 0.5316 - val_loss: 0.8354 - val_channel_loss: 0.8354 - val_baseline_loss: 2.6793 - val_channel_acc: 0.5283 - val_baseline_acc: 0.5233\n",
      "Epoch 3/40\n",
      "54000/54000 [==============================] - 5s - loss: 0.8058 - channel_loss: 0.8058 - baseline_loss: 2.7526 - channel_acc: 0.5371 - baseline_acc: 0.5324 - val_loss: 0.8192 - val_channel_loss: 0.8192 - val_baseline_loss: 2.8539 - val_channel_acc: 0.5193 - val_baseline_acc: 0.5217\n",
      "Epoch 4/40\n",
      "54000/54000 [==============================] - 6s - loss: 0.7912 - channel_loss: 0.7912 - baseline_loss: 3.0094 - channel_acc: 0.5386 - baseline_acc: 0.5341 - val_loss: 0.8089 - val_channel_loss: 0.8089 - val_baseline_loss: 3.1643 - val_channel_acc: 0.5215 - val_baseline_acc: 0.5203\n",
      "Epoch 5/40\n",
      "54000/54000 [==============================] - 6s - loss: 0.7844 - channel_loss: 0.7844 - baseline_loss: 3.1881 - channel_acc: 0.5378 - baseline_acc: 0.5336 - val_loss: 0.8042 - val_channel_loss: 0.8042 - val_baseline_loss: 3.3561 - val_channel_acc: 0.5220 - val_baseline_acc: 0.5210\n",
      "Epoch 6/40\n",
      "54000/54000 [==============================] - 5s - loss: 0.7759 - channel_loss: 0.7759 - baseline_loss: 3.3692 - channel_acc: 0.5403 - baseline_acc: 0.5366 - val_loss: 0.7992 - val_channel_loss: 0.7992 - val_baseline_loss: 3.3789 - val_channel_acc: 0.5282 - val_baseline_acc: 0.5287\n",
      "Epoch 7/40\n",
      "54000/54000 [==============================] - 5s - loss: 0.7702 - channel_loss: 0.7702 - baseline_loss: 3.4380 - channel_acc: 0.5391 - baseline_acc: 0.5362 - val_loss: 0.7987 - val_channel_loss: 0.7987 - val_baseline_loss: 3.6381 - val_channel_acc: 0.5272 - val_baseline_acc: 0.5257\n",
      "Epoch 8/40\n",
      "54000/54000 [==============================] - 5s - loss: 0.7685 - channel_loss: 0.7685 - baseline_loss: 3.5656 - channel_acc: 0.5396 - baseline_acc: 0.5368 - val_loss: 0.7980 - val_channel_loss: 0.7980 - val_baseline_loss: 3.6580 - val_channel_acc: 0.5202 - val_baseline_acc: 0.5200\n",
      "Epoch 9/40\n",
      "54000/54000 [==============================] - 5s - loss: 0.7639 - channel_loss: 0.7639 - baseline_loss: 3.6116 - channel_acc: 0.5402 - baseline_acc: 0.5376 - val_loss: 0.7965 - val_channel_loss: 0.7965 - val_baseline_loss: 3.7177 - val_channel_acc: 0.5227 - val_baseline_acc: 0.5210\n",
      "Epoch 10/40\n",
      "54000/54000 [==============================] - 5s - loss: 0.7595 - channel_loss: 0.7595 - baseline_loss: 3.7421 - channel_acc: 0.5393 - baseline_acc: 0.5369 - val_loss: 0.7953 - val_channel_loss: 0.7953 - val_baseline_loss: 3.9808 - val_channel_acc: 0.5200 - val_baseline_acc: 0.5197\n",
      "Epoch 11/40\n",
      "54000/54000 [==============================] - 5s - loss: 0.7548 - channel_loss: 0.7548 - baseline_loss: 3.8837 - channel_acc: 0.5391 - baseline_acc: 0.5379 - val_loss: 0.7902 - val_channel_loss: 0.7902 - val_baseline_loss: 4.0147 - val_channel_acc: 0.5285 - val_baseline_acc: 0.5313\n",
      "Epoch 12/40\n",
      "54000/54000 [==============================] - 6s - loss: 0.7558 - channel_loss: 0.7558 - baseline_loss: 3.9122 - channel_acc: 0.5398 - baseline_acc: 0.5393 - val_loss: 0.7857 - val_channel_loss: 0.7857 - val_baseline_loss: 4.0004 - val_channel_acc: 0.5285 - val_baseline_acc: 0.5312\n",
      "Epoch 13/40\n",
      "54000/54000 [==============================] - 5s - loss: 0.7489 - channel_loss: 0.7489 - baseline_loss: 3.9310 - channel_acc: 0.5420 - baseline_acc: 0.5402 - val_loss: 0.7842 - val_channel_loss: 0.7842 - val_baseline_loss: 4.0876 - val_channel_acc: 0.5207 - val_baseline_acc: 0.5258\n",
      "Epoch 14/40\n",
      "54000/54000 [==============================] - 6s - loss: 0.7498 - channel_loss: 0.7498 - baseline_loss: 3.9834 - channel_acc: 0.5423 - baseline_acc: 0.5396 - val_loss: 0.7825 - val_channel_loss: 0.7825 - val_baseline_loss: 4.1506 - val_channel_acc: 0.5290 - val_baseline_acc: 0.5307\n",
      "Epoch 15/40\n",
      "54000/54000 [==============================] - 7s - loss: 0.7452 - channel_loss: 0.7452 - baseline_loss: 4.0601 - channel_acc: 0.5437 - baseline_acc: 0.5415 - val_loss: 0.7817 - val_channel_loss: 0.7817 - val_baseline_loss: 4.2189 - val_channel_acc: 0.5282 - val_baseline_acc: 0.5297\n",
      "Epoch 16/40\n",
      "54000/54000 [==============================] - 6s - loss: 0.7442 - channel_loss: 0.7442 - baseline_loss: 4.1084 - channel_acc: 0.5431 - baseline_acc: 0.5401 - val_loss: 0.7844 - val_channel_loss: 0.7844 - val_baseline_loss: 4.2410 - val_channel_acc: 0.5292 - val_baseline_acc: 0.5278\n",
      "Epoch 17/40\n",
      "54000/54000 [==============================] - 6s - loss: 0.7419 - channel_loss: 0.7419 - baseline_loss: 4.1613 - channel_acc: 0.5453 - baseline_acc: 0.5414 - val_loss: 0.7859 - val_channel_loss: 0.7859 - val_baseline_loss: 4.2699 - val_channel_acc: 0.5227 - val_baseline_acc: 0.5153\n",
      "Epoch 18/40\n",
      "54000/54000 [==============================] - 6s - loss: 0.7396 - channel_loss: 0.7396 - baseline_loss: 4.1826 - channel_acc: 0.5471 - baseline_acc: 0.5445 - val_loss: 0.7858 - val_channel_loss: 0.7858 - val_baseline_loss: 4.4080 - val_channel_acc: 0.5268 - val_baseline_acc: 0.5223\n",
      "Epoch 19/40\n",
      "54000/54000 [==============================] - 6s - loss: 0.7423 - channel_loss: 0.7423 - baseline_loss: 4.2279 - channel_acc: 0.5450 - baseline_acc: 0.5426 - val_loss: 0.7835 - val_channel_loss: 0.7835 - val_baseline_loss: 4.3753 - val_channel_acc: 0.5227 - val_baseline_acc: 0.5213\n",
      "Epoch 20/40\n",
      "54000/54000 [==============================] - 6s - loss: 0.7392 - channel_loss: 0.7392 - baseline_loss: 4.2281 - channel_acc: 0.5440 - baseline_acc: 0.5416 - val_loss: 0.7820 - val_channel_loss: 0.7820 - val_baseline_loss: 4.4053 - val_channel_acc: 0.5275 - val_baseline_acc: 0.5243\n",
      "Epoch 00019: early stopping\n"
     ]
    }
   ],
   "source": [
    "train_res = simple_model.fit(X_train_train,\n",
    "                      [y_train_train,y_train_train],\n",
    "                      batch_size=batch_size,\n",
    "                      epochs=epochs,\n",
    "                      verbose=verbose,\n",
    "                      validation_data=(X_train_val,\n",
    "                                       [y_train_val,y_train_val]),\n",
    "                      callbacks=\n",
    "                      [EarlyStopping(patience=patience,mode='min',verbose=verbose)]\n",
    "                      )"
   ]
  },
  {
   "cell_type": "code",
   "execution_count": 32,
   "metadata": {
    "collapsed": false
   },
   "outputs": [
    {
     "data": {
      "text/plain": [
       "{'baseline_acc': 0.92569999999999997,\n",
       " 'baseline_loss': 0.24902633275985717,\n",
       " 'channel_acc': 0.94979999999999998,\n",
       " 'channel_loss': 0.67406886959075929,\n",
       " 'loss': 0.67406886959075929}"
      ]
     },
     "execution_count": 32,
     "metadata": {},
     "output_type": "execute_result"
    }
   ],
   "source": [
    "eval(simple_model,y_test=[y_test,y_test])"
   ]
  }
 ],
 "metadata": {
  "anaconda-cloud": {},
  "kernelspec": {
   "display_name": "Python [default]",
   "language": "python",
   "name": "python2"
  },
  "language_info": {
   "codemirror_mode": {
    "name": "ipython",
    "version": 2
   },
   "file_extension": ".py",
   "mimetype": "text/x-python",
   "name": "python",
   "nbconvert_exporter": "python",
   "pygments_lexer": "ipython2",
   "version": "2.7.13"
  }
 },
 "nbformat": 4,
 "nbformat_minor": 2
}
